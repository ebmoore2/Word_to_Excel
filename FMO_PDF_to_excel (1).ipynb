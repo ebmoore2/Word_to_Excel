{
 "cells": [
  {
   "cell_type": "markdown",
   "metadata": {},
   "source": [
    "## FMO State or Federal Ownership data managment"
   ]
  },
  {
   "cell_type": "code",
   "execution_count": 14,
   "metadata": {},
   "outputs": [],
   "source": [
    "#pip install tabula-py"
   ]
  },
  {
   "cell_type": "code",
   "execution_count": 22,
   "metadata": {},
   "outputs": [],
   "source": [
    "#convert pdf to excel, with goal of 3 fields,\n",
    "#FACNO/LD, Interest Type, and (lower priority) RPA Description\n",
    "\n",
    "\n",
    "#Github source: https://github.com/chezou/tabula-py\n",
    "\n",
    "#bin folder location\n",
    "#C:\\Program Files\\Java\\jre1.8.0_144\\bin\n",
    "\n",
    "#pip install tabula-py\n",
    "#PDF to Text, I did this manually\n",
    "#pdftotext -layout AZ_FISP_20181116_state_fed_ownership.pdf\n",
    "\n",
    "import tabula\n",
    "\n",
    "# Read pdf into DataFrame\n",
    "df = tabula.read_pdf(r\"C:\\Users\\intern\\Documents\\ArcGIS\\Projects\\Facilities Maintenance Office\\AZ_FISP_20181116_state_fed_ownership.pdf\")\n",
    "\n",
    "# Read remote pdf into DataFrame\n",
    "#df2 = tabula.read_pdf(\"https://github.com/tabulapdf/tabula-java/raw/master/src/test/resources/technology/tabula/arabic.pdf\")\n",
    "\n",
    "# convert PDF into CSV\n",
    "#tabula.convert_into(\"test.pdf\", \"output.csv\", output_format=\"csv\")"
   ]
  },
  {
   "cell_type": "code",
   "execution_count": 27,
   "metadata": {},
   "outputs": [],
   "source": [
    "#read word document text\n",
    "#source: https://stackoverflow.com/questions/36001482/read-doc-file-with-python\n",
    "\n",
    "#pip install docx2txt\n",
    "\n",
    "#pip install win32com.client\n",
    "\n",
    "#import win32com.client\n",
    "\n",
    "#word = win32com.client.Dispatch(\"Word.Application\")\n",
    "#word.visible = False\n",
    "#wb = word.Documents.Open(\"Interest_Type_Word_conversion_table.docx\")\n",
    "#doc = word.ActiveDocument\n",
    "#print(doc.Range().Text)\n",
    "\n",
    "\n",
    "\n",
    "import docx2txt\n",
    "\n",
    "#import docx2txt\n",
    "#my_text = docx2txt.process(\"test.docx\")\n",
    "#print(my_text)\n",
    "\n",
    "FMO_text = docx2txt.process(r\"C:\\Users\\intern\\Documents\\ArcGIS\\Projects\\Facilities Maintenance Office\\Interest_Type_Word_conversion_table.docx\")\n",
    "\n",
    "\n",
    "#text = textract.process(\"path/to/file.extension\")\n",
    "\n",
    "#pip install textract\n",
    "\n",
    "#import textract\n",
    "\n",
    "#FMO_data = textract.process(r\"C:\\Users\\intern\\Documents\\ArcGIS\\Projects\\Facilities Maintenance Office\\Interest_Type_Word_conversion_table.docx\")"
   ]
  },
  {
   "cell_type": "code",
   "execution_count": 46,
   "metadata": {},
   "outputs": [
    {
     "name": "stdout",
     "output_type": "stream",
     "text": [
      "FACNO/LD 0J105 \n"
     ]
    }
   ],
   "source": [
    "#other method\n",
    "#source: https://ubuntuforums.org/showthread.php?t=352586\n",
    "\n",
    "#a for loop?\n",
    "#source: https://stackoverflow.com/questions/3873361/finding-multiple-occurrences-of-a-string-within-a-string-in-python\n",
    "\n",
    "#for len in FMO_text:\n",
    "#    FACNO = mySubString_1\n",
    "\n",
    "#find any?\n",
    "#https://stackoverflow.com/questions/13779526/finding-a-substring-within-a-list-in-python\n",
    "\n",
    "#if statement?\n",
    "#source: \n",
    "\n",
    "n = len(FMO_text)\n",
    "\n",
    "#for n:\n",
    "    mySubString_1 = FMO_text[FMO_text.find(\"FACNO/LD\"):FMO_text.find(\"RPA Name\")]\n",
    "    \n",
    "    \n",
    "#    mySubString_2 = FMO_text[FMO_text.find(\"Interest Type\"):FMO_text.find(\"Placed\")]\n",
    "#    mySubString_3 = FMO_text[FMO_text.find(\"RPA Description\"):FMO_text.find(\"Design FAC\")]\n",
    "\n",
    "#may need to strip the spaces off of substring results\n",
    "\n",
    "\n",
    "#works\n",
    "print(mySubString_1[:500])\n",
    "\n",
    "#works, changed from Placed In Service Date to \"Placed\"\n",
    "#print(mySubString_2[:500])\n",
    "\n",
    "#works\n",
    "#print(mySubString_3[:500])"
   ]
  },
  {
   "cell_type": "code",
   "execution_count": 6,
   "metadata": {},
   "outputs": [
    {
     "ename": "SyntaxError",
     "evalue": "invalid syntax (<ipython-input-6-5f3f08226f07>, line 9)",
     "output_type": "error",
     "traceback": [
      "\u001b[1;36m  File \u001b[1;32m\"<ipython-input-6-5f3f08226f07>\"\u001b[1;36m, line \u001b[1;32m9\u001b[0m\n\u001b[1;33m    print result.group(1)\u001b[0m\n\u001b[1;37m               ^\u001b[0m\n\u001b[1;31mSyntaxError\u001b[0m\u001b[1;31m:\u001b[0m invalid syntax\n"
     ]
    }
   ],
   "source": [
    "#source: https://stackoverflow.com/questions/3368969/find-string-between-two-substrings\n",
    "#\n",
    "#find string between two substrings, such as the ID number between \"FACNO/LD\" and \"RPA Name\"\n",
    "#\n",
    "import re\n",
    "#\n",
    "s = 'asdf=5;iwantthis123jasd'\n",
    "result = re.search('asdf=5;(.*)123jasd', s)\n",
    "print result.group(1)\n",
    "#\n",
    "#other method\n",
    "start = 'FACNO/LD;'\n",
    "end = 'RPA Name'\n",
    "s = '#read_from_text_document'\n",
    "print s[s.find(start)+len(start):s.rfind(end)]"
   ]
  },
  {
   "cell_type": "code",
   "execution_count": 17,
   "metadata": {},
   "outputs": [
    {
     "ename": "SyntaxError",
     "evalue": "invalid syntax (<ipython-input-17-4241bc5d238f>, line 6)",
     "output_type": "error",
     "traceback": [
      "\u001b[1;36m  File \u001b[1;32m\"<ipython-input-17-4241bc5d238f>\"\u001b[1;36m, line \u001b[1;32m6\u001b[0m\n\u001b[1;33m    FMO_table = FACNO/LD: mySubString_1, Interest Type: mySubString_2, RPA Description: mySubString_3\u001b[0m\n\u001b[1;37m                        ^\u001b[0m\n\u001b[1;31mSyntaxError\u001b[0m\u001b[1;31m:\u001b[0m invalid syntax\n"
     ]
    }
   ],
   "source": [
    "#syntax of fields\n",
    "#field 1 = FACNO/LD = id\n",
    "#field 2 = Interest Type = either FEE or ONST\n",
    "#field 3 = RPA Description = name of the building\n",
    "#\n",
    "FMO_table = FACNO/LD: mySubString_1, Interest Type: mySubString_2, RPA Description: mySubString_3\n",
    "#\n",
    "#print as tabular data\n",
    "#source: https://stackoverflow.com/questions/9535954/printing-lists-as-tabular-data                   \n",
    "#want a table in CSV form of these 3 fields\n",
    "#\n",
    "#data = np.array([[1, 2, 1],\n",
    "#                 [0, 1, 0],\n",
    "#                 [2, 4, 2]])\n",
    "#\n",
    "#\n",
    "a = line.split()  # a = [\"BEGIN\", \"EXAMPLE\", \"LINE\"]\n",
    "a = a[1:]  # make a list from the 1:st element to the last, a = [\"EXAMPLE\", \"LINE\"]\n",
    "a = \" \".join(a)  # Join all elements in the list divided by white spaces\n",
    "print(a)  # prints \"EXAMPLE LINE\"\n",
    "#\n",
    "or shorter:\n",
    "#\n",
    "print(\" \".join(line.split()[1:]))\n",
    "#\n",
    "#\n",
    ">>> import pandas\n",
    ">>> pandas.DataFrame(data, teams_list, teams_list)\n",
    "#\n",
    "#print FMO_table\n",
    "#print FMO_table.splitlines()[0]\n",
    "#print FMO_table.split(\"\\n\")[0]\n",
    "#print FMO_table.split('\\n')[0]\n",
    "#test to see if it works without printing the whole thing"
   ]
  },
  {
   "cell_type": "code",
   "execution_count": null,
   "metadata": {},
   "outputs": [],
   "source": []
  }
 ],
 "metadata": {
  "kernelspec": {
   "display_name": "Python 3",
   "language": "python",
   "name": "python3"
  },
  "language_info": {
   "codemirror_mode": {
    "name": "ipython",
    "version": 3
   },
   "file_extension": ".py",
   "mimetype": "text/x-python",
   "name": "python",
   "nbconvert_exporter": "python",
   "pygments_lexer": "ipython3",
   "version": "3.7.1"
  }
 },
 "nbformat": 4,
 "nbformat_minor": 2
}
