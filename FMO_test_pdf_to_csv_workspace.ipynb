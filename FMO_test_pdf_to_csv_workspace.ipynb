{
 "cells": [
  {
   "cell_type": "code",
   "execution_count": 3,
   "metadata": {
    "collapsed": false
   },
   "outputs": [],
   "source": [
    "#read word document text because \"tabulate\" result on pdf is messy\n",
    "#source: https://stackoverflow.com/questions/36001482/read-doc-file-with-python\n",
    "\n",
    "#pip install docx2txt\n",
    "\n",
    "import docx2txt\n",
    "\n",
    "#import docx2txt\n",
    "#my_text = docx2txt.process(\"test.docx\")\n",
    "#print(my_text)\n",
    "\n",
    "FMO_text = docx2txt.process(r\"C:\\Users\\intern\\Documents\\ArcGIS\\Projects\\Facilities Maintenance Office\\Interest_Type_Word_conversion_table.docx\")"
   ]
  },
  {
   "cell_type": "code",
   "execution_count": null,
   "metadata": {
    "collapsed": true
   },
   "outputs": [],
   "source": [
    "n = len(FMO_text)\n",
    "\n",
    "\n",
    "#try this\n",
    "for FMO_text in n:\n",
    "    mySubString_1 = FMO_text[FMO_text.find(\"FACNO/LD\"):FMO_text.find(\"RPA Name\")]\n",
    "    return mySubString_1\n",
    "\n",
    "#or this?\n",
    "mySubString_1 = FMO_text[FMO_text.find(\"FACNO/LD\"):FMO_text.find(\"RPA Name\")]  \n",
    "mySubString_2 = FMO_text[FMO_text.find(\"Interest Type\"):FMO_text.find(\"Placed\")]\n",
    "mySubString_3 = FMO_text[FMO_text.find(\"RPA Description\"):FMO_text.find(\"Design FAC\")]\n",
    "\n",
    "\n",
    "#works\n",
    "print(mySubString_1[:500])\n",
    "\n",
    "#works, changed from Placed In Service Date to \"Placed\"\n",
    "#print(mySubString_2[:500])\n",
    "\n",
    "#works\n",
    "#print(mySubString_3[:500])"
   ]
  },
  {
   "cell_type": "code",
   "execution_count": null,
   "metadata": {
    "collapsed": true
   },
   "outputs": [],
   "source": [
    "#other method\n",
    "#source: https://ubuntuforums.org/showthread.php?t=352586\n",
    "\n",
    "#a for loop?\n",
    "#source: https://stackoverflow.com/questions/3873361/finding-multiple-occurrences-of-a-string-within-a-string-in-python\n",
    "\n",
    "#for len in FMO_text:\n",
    "#    FACNO = mySubString_1\n",
    "\n",
    "#find any?\n",
    "#https://stackoverflow.com/questions/13779526/finding-a-substring-within-a-list-in-python"
   ]
  },
  {
   "cell_type": "code",
   "execution_count": null,
   "metadata": {
    "collapsed": true
   },
   "outputs": [],
   "source": []
  },
  {
   "cell_type": "code",
   "execution_count": null,
   "metadata": {
    "collapsed": true
   },
   "outputs": [],
   "source": []
  },
  {
   "cell_type": "code",
   "execution_count": null,
   "metadata": {
    "collapsed": true
   },
   "outputs": [],
   "source": []
  },
  {
   "cell_type": "code",
   "execution_count": null,
   "metadata": {
    "collapsed": true
   },
   "outputs": [],
   "source": []
  },
  {
   "cell_type": "code",
   "execution_count": null,
   "metadata": {
    "collapsed": true
   },
   "outputs": [],
   "source": []
  }
 ],
 "metadata": {
  "kernelspec": {
   "display_name": "Python [conda root]",
   "language": "python",
   "name": "conda-root-py"
  },
  "language_info": {
   "codemirror_mode": {
    "name": "ipython",
    "version": 3
   },
   "file_extension": ".py",
   "mimetype": "text/x-python",
   "name": "python",
   "nbconvert_exporter": "python",
   "pygments_lexer": "ipython3",
   "version": "3.5.2"
  }
 },
 "nbformat": 4,
 "nbformat_minor": 1
}
